{
  "nbformat": 4,
  "nbformat_minor": 0,
  "metadata": {
    "colab": {
      "provenance": [],
      "include_colab_link": true
    },
    "kernelspec": {
      "name": "python3",
      "display_name": "Python 3"
    },
    "language_info": {
      "name": "python"
    },
    "accelerator": "GPU",
    "gpuClass": "standard"
  },
  "cells": [
    {
      "cell_type": "markdown",
      "metadata": {
        "id": "view-in-github",
        "colab_type": "text"
      },
      "source": [
        "<a href=\"https://colab.research.google.com/github/anantterkar/Mini-Project-I/blob/main/BART_base_and_CNN.ipynb\" target=\"_parent\"><img src=\"https://colab.research.google.com/assets/colab-badge.svg\" alt=\"Open In Colab\"/></a>"
      ]
    },
    {
      "cell_type": "markdown",
      "source": [
        "# Importing all necessary libraries"
      ],
      "metadata": {
        "id": "3VgMUTr3UG2O"
      }
    },
    {
      "cell_type": "code",
      "source": [
        "!pip install transformers\n",
        "!pip install rouge_score\n"
      ],
      "metadata": {
        "id": "-EtzbneMUarA",
        "colab": {
          "base_uri": "https://localhost:8080/"
        },
        "outputId": "b9fdac17-e42a-4cf1-e0ab-d218a4c0f19f"
      },
      "execution_count": null,
      "outputs": [
        {
          "output_type": "stream",
          "name": "stdout",
          "text": [
            "Looking in indexes: https://pypi.org/simple, https://us-python.pkg.dev/colab-wheels/public/simple/\n",
            "Collecting transformers\n",
            "  Downloading transformers-4.28.1-py3-none-any.whl (7.0 MB)\n",
            "\u001b[2K     \u001b[90m━━━━━━━━━━━━━━━━━━━━━━━━━━━━━━━━━━━━━━━━\u001b[0m \u001b[32m7.0/7.0 MB\u001b[0m \u001b[31m104.4 MB/s\u001b[0m eta \u001b[36m0:00:00\u001b[0m\n",
            "\u001b[?25hCollecting tokenizers!=0.11.3,<0.14,>=0.11.1\n",
            "  Downloading tokenizers-0.13.3-cp310-cp310-manylinux_2_17_x86_64.manylinux2014_x86_64.whl (7.8 MB)\n",
            "\u001b[2K     \u001b[90m━━━━━━━━━━━━━━━━━━━━━━━━━━━━━━━━━━━━━━━━\u001b[0m \u001b[32m7.8/7.8 MB\u001b[0m \u001b[31m108.4 MB/s\u001b[0m eta \u001b[36m0:00:00\u001b[0m\n",
            "\u001b[?25hRequirement already satisfied: packaging>=20.0 in /usr/local/lib/python3.10/dist-packages (from transformers) (23.1)\n",
            "Requirement already satisfied: pyyaml>=5.1 in /usr/local/lib/python3.10/dist-packages (from transformers) (6.0)\n",
            "Requirement already satisfied: filelock in /usr/local/lib/python3.10/dist-packages (from transformers) (3.12.0)\n",
            "Requirement already satisfied: regex!=2019.12.17 in /usr/local/lib/python3.10/dist-packages (from transformers) (2022.10.31)\n",
            "Requirement already satisfied: tqdm>=4.27 in /usr/local/lib/python3.10/dist-packages (from transformers) (4.65.0)\n",
            "Requirement already satisfied: numpy>=1.17 in /usr/local/lib/python3.10/dist-packages (from transformers) (1.22.4)\n",
            "Collecting huggingface-hub<1.0,>=0.11.0\n",
            "  Downloading huggingface_hub-0.14.1-py3-none-any.whl (224 kB)\n",
            "\u001b[2K     \u001b[90m━━━━━━━━━━━━━━━━━━━━━━━━━━━━━━━━━━━━━━\u001b[0m \u001b[32m224.5/224.5 kB\u001b[0m \u001b[31m28.3 MB/s\u001b[0m eta \u001b[36m0:00:00\u001b[0m\n",
            "\u001b[?25hRequirement already satisfied: requests in /usr/local/lib/python3.10/dist-packages (from transformers) (2.27.1)\n",
            "Requirement already satisfied: typing-extensions>=3.7.4.3 in /usr/local/lib/python3.10/dist-packages (from huggingface-hub<1.0,>=0.11.0->transformers) (4.5.0)\n",
            "Requirement already satisfied: fsspec in /usr/local/lib/python3.10/dist-packages (from huggingface-hub<1.0,>=0.11.0->transformers) (2023.4.0)\n",
            "Requirement already satisfied: certifi>=2017.4.17 in /usr/local/lib/python3.10/dist-packages (from requests->transformers) (2022.12.7)\n",
            "Requirement already satisfied: urllib3<1.27,>=1.21.1 in /usr/local/lib/python3.10/dist-packages (from requests->transformers) (1.26.15)\n",
            "Requirement already satisfied: charset-normalizer~=2.0.0 in /usr/local/lib/python3.10/dist-packages (from requests->transformers) (2.0.12)\n",
            "Requirement already satisfied: idna<4,>=2.5 in /usr/local/lib/python3.10/dist-packages (from requests->transformers) (3.4)\n",
            "Installing collected packages: tokenizers, huggingface-hub, transformers\n",
            "Successfully installed huggingface-hub-0.14.1 tokenizers-0.13.3 transformers-4.28.1\n",
            "Looking in indexes: https://pypi.org/simple, https://us-python.pkg.dev/colab-wheels/public/simple/\n",
            "Collecting rouge_score\n",
            "  Downloading rouge_score-0.1.2.tar.gz (17 kB)\n",
            "  Preparing metadata (setup.py) ... \u001b[?25l\u001b[?25hdone\n",
            "Requirement already satisfied: absl-py in /usr/local/lib/python3.10/dist-packages (from rouge_score) (1.4.0)\n",
            "Requirement already satisfied: nltk in /usr/local/lib/python3.10/dist-packages (from rouge_score) (3.8.1)\n",
            "Requirement already satisfied: numpy in /usr/local/lib/python3.10/dist-packages (from rouge_score) (1.22.4)\n",
            "Requirement already satisfied: six>=1.14.0 in /usr/local/lib/python3.10/dist-packages (from rouge_score) (1.16.0)\n",
            "Requirement already satisfied: tqdm in /usr/local/lib/python3.10/dist-packages (from nltk->rouge_score) (4.65.0)\n",
            "Requirement already satisfied: regex>=2021.8.3 in /usr/local/lib/python3.10/dist-packages (from nltk->rouge_score) (2022.10.31)\n",
            "Requirement already satisfied: joblib in /usr/local/lib/python3.10/dist-packages (from nltk->rouge_score) (1.2.0)\n",
            "Requirement already satisfied: click in /usr/local/lib/python3.10/dist-packages (from nltk->rouge_score) (8.1.3)\n",
            "Building wheels for collected packages: rouge_score\n",
            "  Building wheel for rouge_score (setup.py) ... \u001b[?25l\u001b[?25hdone\n",
            "  Created wheel for rouge_score: filename=rouge_score-0.1.2-py3-none-any.whl size=24954 sha256=cbb19597459ed8c0b400135b4c0494482fe2499cf94d85a2a6a9fdd71a4b274a\n",
            "  Stored in directory: /root/.cache/pip/wheels/5f/dd/89/461065a73be61a532ff8599a28e9beef17985c9e9c31e541b4\n",
            "Successfully built rouge_score\n",
            "Installing collected packages: rouge_score\n",
            "Successfully installed rouge_score-0.1.2\n"
          ]
        }
      ]
    },
    {
      "cell_type": "code",
      "source": [
        "import pandas as pd\n",
        "from transformers import *\n",
        "#from blurr.data.all import *\n",
        "#from blurr.modeling.all import *\n",
        "\n",
        "import nltk\n",
        "from nltk.corpus import stopwords\n",
        "from nltk.stem import SnowballStemmer\n",
        "from string import punctuation\n",
        "from nltk.stem.wordnet import WordNetLemmatizer\n",
        "from tqdm import tqdm\n",
        "import re\n",
        "import os\n",
        "import matplotlib.pyplot as plt\n",
        "import seaborn as sns\n",
        "import time\n",
        "import datetime\n",
        "from scipy import sparse\n",
        "import numpy as np\n",
        "\n",
        "from sklearn.model_selection import train_test_split"
      ],
      "metadata": {
        "id": "XR8ATW12UGd_",
        "colab": {
          "base_uri": "https://localhost:8080/"
        },
        "outputId": "a10e6446-ec0a-478b-cacb-5be842b6d106"
      },
      "execution_count": null,
      "outputs": [
        {
          "output_type": "stream",
          "name": "stderr",
          "text": [
            "/usr/local/lib/python3.10/dist-packages/transformers/generation_utils.py:24: FutureWarning: Importing `GenerationMixin` from `src/transformers/generation_utils.py` is deprecated and will be removed in Transformers v5. Import as `from transformers import GenerationMixin` instead.\n",
            "  warnings.warn(\n",
            "/usr/local/lib/python3.10/dist-packages/transformers/generation_tf_utils.py:24: FutureWarning: Importing `TFGenerationMixin` from `src/transformers/generation_tf_utils.py` is deprecated and will be removed in Transformers v5. Import as `from transformers import TFGenerationMixin` instead.\n",
            "  warnings.warn(\n",
            "/usr/local/lib/python3.10/dist-packages/transformers/generation_flax_utils.py:24: FutureWarning: Importing `FlaxGenerationMixin` from `src/transformers/generation_flax_utils.py` is deprecated and will be removed in Transformers v5. Import as `from transformers import FlaxGenerationMixin` instead.\n",
            "  warnings.warn(\n"
          ]
        }
      ]
    },
    {
      "cell_type": "code",
      "source": [
        "from google.colab import drive\n",
        "drive.mount('/content/drive')"
      ],
      "metadata": {
        "colab": {
          "base_uri": "https://localhost:8080/",
          "height": 328
        },
        "id": "2rHQm19yTOlC",
        "outputId": "3cdcad03-b55e-4fdb-a38a-9a42f5497ce8"
      },
      "execution_count": null,
      "outputs": [
        {
          "output_type": "error",
          "ename": "MessageError",
          "evalue": "ignored",
          "traceback": [
            "\u001b[0;31m---------------------------------------------------------------------------\u001b[0m",
            "\u001b[0;31mMessageError\u001b[0m                              Traceback (most recent call last)",
            "\u001b[0;32m<ipython-input-1-d5df0069828e>\u001b[0m in \u001b[0;36m<cell line: 2>\u001b[0;34m()\u001b[0m\n\u001b[1;32m      1\u001b[0m \u001b[0;32mfrom\u001b[0m \u001b[0mgoogle\u001b[0m\u001b[0;34m.\u001b[0m\u001b[0mcolab\u001b[0m \u001b[0;32mimport\u001b[0m \u001b[0mdrive\u001b[0m\u001b[0;34m\u001b[0m\u001b[0;34m\u001b[0m\u001b[0m\n\u001b[0;32m----> 2\u001b[0;31m \u001b[0mdrive\u001b[0m\u001b[0;34m.\u001b[0m\u001b[0mmount\u001b[0m\u001b[0;34m(\u001b[0m\u001b[0;34m'/content/drive'\u001b[0m\u001b[0;34m)\u001b[0m\u001b[0;34m\u001b[0m\u001b[0;34m\u001b[0m\u001b[0m\n\u001b[0m",
            "\u001b[0;32m/usr/local/lib/python3.10/dist-packages/google/colab/drive.py\u001b[0m in \u001b[0;36mmount\u001b[0;34m(mountpoint, force_remount, timeout_ms, readonly)\u001b[0m\n\u001b[1;32m    101\u001b[0m \u001b[0;32mdef\u001b[0m \u001b[0mmount\u001b[0m\u001b[0;34m(\u001b[0m\u001b[0mmountpoint\u001b[0m\u001b[0;34m,\u001b[0m \u001b[0mforce_remount\u001b[0m\u001b[0;34m=\u001b[0m\u001b[0;32mFalse\u001b[0m\u001b[0;34m,\u001b[0m \u001b[0mtimeout_ms\u001b[0m\u001b[0;34m=\u001b[0m\u001b[0;36m120000\u001b[0m\u001b[0;34m,\u001b[0m \u001b[0mreadonly\u001b[0m\u001b[0;34m=\u001b[0m\u001b[0;32mFalse\u001b[0m\u001b[0;34m)\u001b[0m\u001b[0;34m:\u001b[0m\u001b[0;34m\u001b[0m\u001b[0;34m\u001b[0m\u001b[0m\n\u001b[1;32m    102\u001b[0m   \u001b[0;34m\"\"\"Mount your Google Drive at the specified mountpoint path.\"\"\"\u001b[0m\u001b[0;34m\u001b[0m\u001b[0;34m\u001b[0m\u001b[0m\n\u001b[0;32m--> 103\u001b[0;31m   return _mount(\n\u001b[0m\u001b[1;32m    104\u001b[0m       \u001b[0mmountpoint\u001b[0m\u001b[0;34m,\u001b[0m\u001b[0;34m\u001b[0m\u001b[0;34m\u001b[0m\u001b[0m\n\u001b[1;32m    105\u001b[0m       \u001b[0mforce_remount\u001b[0m\u001b[0;34m=\u001b[0m\u001b[0mforce_remount\u001b[0m\u001b[0;34m,\u001b[0m\u001b[0;34m\u001b[0m\u001b[0;34m\u001b[0m\u001b[0m\n",
            "\u001b[0;32m/usr/local/lib/python3.10/dist-packages/google/colab/drive.py\u001b[0m in \u001b[0;36m_mount\u001b[0;34m(mountpoint, force_remount, timeout_ms, ephemeral, readonly)\u001b[0m\n\u001b[1;32m    130\u001b[0m   )\n\u001b[1;32m    131\u001b[0m   \u001b[0;32mif\u001b[0m \u001b[0mephemeral\u001b[0m\u001b[0;34m:\u001b[0m\u001b[0;34m\u001b[0m\u001b[0;34m\u001b[0m\u001b[0m\n\u001b[0;32m--> 132\u001b[0;31m     _message.blocking_request(\n\u001b[0m\u001b[1;32m    133\u001b[0m         \u001b[0;34m'request_auth'\u001b[0m\u001b[0;34m,\u001b[0m \u001b[0mrequest\u001b[0m\u001b[0;34m=\u001b[0m\u001b[0;34m{\u001b[0m\u001b[0;34m'authType'\u001b[0m\u001b[0;34m:\u001b[0m \u001b[0;34m'dfs_ephemeral'\u001b[0m\u001b[0;34m}\u001b[0m\u001b[0;34m,\u001b[0m \u001b[0mtimeout_sec\u001b[0m\u001b[0;34m=\u001b[0m\u001b[0;32mNone\u001b[0m\u001b[0;34m\u001b[0m\u001b[0;34m\u001b[0m\u001b[0m\n\u001b[1;32m    134\u001b[0m     )\n",
            "\u001b[0;32m/usr/local/lib/python3.10/dist-packages/google/colab/_message.py\u001b[0m in \u001b[0;36mblocking_request\u001b[0;34m(request_type, request, timeout_sec, parent)\u001b[0m\n\u001b[1;32m    174\u001b[0m       \u001b[0mrequest_type\u001b[0m\u001b[0;34m,\u001b[0m \u001b[0mrequest\u001b[0m\u001b[0;34m,\u001b[0m \u001b[0mparent\u001b[0m\u001b[0;34m=\u001b[0m\u001b[0mparent\u001b[0m\u001b[0;34m,\u001b[0m \u001b[0mexpect_reply\u001b[0m\u001b[0;34m=\u001b[0m\u001b[0;32mTrue\u001b[0m\u001b[0;34m\u001b[0m\u001b[0;34m\u001b[0m\u001b[0m\n\u001b[1;32m    175\u001b[0m   )\n\u001b[0;32m--> 176\u001b[0;31m   \u001b[0;32mreturn\u001b[0m \u001b[0mread_reply_from_input\u001b[0m\u001b[0;34m(\u001b[0m\u001b[0mrequest_id\u001b[0m\u001b[0;34m,\u001b[0m \u001b[0mtimeout_sec\u001b[0m\u001b[0;34m)\u001b[0m\u001b[0;34m\u001b[0m\u001b[0;34m\u001b[0m\u001b[0m\n\u001b[0m",
            "\u001b[0;32m/usr/local/lib/python3.10/dist-packages/google/colab/_message.py\u001b[0m in \u001b[0;36mread_reply_from_input\u001b[0;34m(message_id, timeout_sec)\u001b[0m\n\u001b[1;32m    101\u001b[0m     ):\n\u001b[1;32m    102\u001b[0m       \u001b[0;32mif\u001b[0m \u001b[0;34m'error'\u001b[0m \u001b[0;32min\u001b[0m \u001b[0mreply\u001b[0m\u001b[0;34m:\u001b[0m\u001b[0;34m\u001b[0m\u001b[0;34m\u001b[0m\u001b[0m\n\u001b[0;32m--> 103\u001b[0;31m         \u001b[0;32mraise\u001b[0m \u001b[0mMessageError\u001b[0m\u001b[0;34m(\u001b[0m\u001b[0mreply\u001b[0m\u001b[0;34m[\u001b[0m\u001b[0;34m'error'\u001b[0m\u001b[0;34m]\u001b[0m\u001b[0;34m)\u001b[0m\u001b[0;34m\u001b[0m\u001b[0;34m\u001b[0m\u001b[0m\n\u001b[0m\u001b[1;32m    104\u001b[0m       \u001b[0;32mreturn\u001b[0m \u001b[0mreply\u001b[0m\u001b[0;34m.\u001b[0m\u001b[0mget\u001b[0m\u001b[0;34m(\u001b[0m\u001b[0;34m'data'\u001b[0m\u001b[0;34m,\u001b[0m \u001b[0;32mNone\u001b[0m\u001b[0;34m)\u001b[0m\u001b[0;34m\u001b[0m\u001b[0;34m\u001b[0m\u001b[0m\n\u001b[1;32m    105\u001b[0m \u001b[0;34m\u001b[0m\u001b[0m\n",
            "\u001b[0;31mMessageError\u001b[0m: Error: credential propagation was unsuccessful"
          ]
        }
      ]
    },
    {
      "cell_type": "markdown",
      "source": [
        "#Cleaning Data"
      ],
      "metadata": {
        "id": "mkGsrZMb--5q"
      }
    },
    {
      "cell_type": "code",
      "source": [
        "import pandas as pd\n",
        "df = pd.read_csv('/content/drive/MyDrive/Mini-project/dataset.csv')\n",
        "training_data = df.sample(frac=0.8, random_state=25)\n",
        "testing_data = df.drop(training_data.index)\n"
      ],
      "metadata": {
        "id": "Bu8vJs_NT8_e"
      },
      "execution_count": null,
      "outputs": []
    },
    {
      "cell_type": "code",
      "source": [
        "#removing dates and URL from Decisions\n",
        "import re\n",
        "\n",
        "def remove_date(df):\n",
        "    pattern = r'\\b\\d{2}/\\d{2}/\\d{4}\\b'  # Regular expression pattern for DD-MM-YYYY format dates\n",
        "    df = df.applymap(lambda x: re.sub(pattern, '', str(x)))\n",
        "    return df\n",
        "\n",
        "urls = r'\\b((?:https?://|www\\d{0,3}[.]|[a-z0-9.\\-]+[.][a-z]{2,4}/)(?:[^\\s()<>]+|\\(([^\\s()<>]+|(\\([^\\s()<>]+\\)))*\\))+(?:\\(([^\\s()<>]+|(\\([^\\s()<>]+\\)))*\\)|[^\\s`!()\\[\\]{};:\\'\".,<>?«»“”‘’]))'\n",
        "\n",
        "def remove_url(df):\n",
        "  df = df.applymap(lambda x: re.sub(urls, '', str(x)))\n",
        "  df = df.applymap(lambda x: re.sub('URL: ', '', str(x)))\n",
        "  return df\n",
        "\n",
        "foot = 'LIIofIndia: Copyright Policy | Disclaimers | Privacy Policy | Feedback'\n",
        "\n",
        "def remove_foot(df):\n",
        "  df = df.applymap(lambda x: re.sub(foot, '', str(x)))\n",
        "  return df\n",
        "\n",
        "training_data = remove_date(training_data)\n",
        "testing_data = remove_date(testing_data)\n",
        "\n",
        "training_data = remove_url(training_data)\n",
        "testing_data = remove_url(testing_data)\n",
        "\n",
        "training_data = remove_foot(training_data)\n",
        "testing_data = remove_foot(testing_data)"
      ],
      "metadata": {
        "id": "29-aM2C-AMLQ"
      },
      "execution_count": null,
      "outputs": []
    },
    {
      "cell_type": "markdown",
      "source": [
        "#Model and Tokenizer"
      ],
      "metadata": {
        "id": "Gw7dQOpmXswd"
      }
    },
    {
      "cell_type": "code",
      "source": [
        "import torch\n",
        "import numpy as np\n",
        "\n",
        "\n",
        "from transformers import (\n",
        "    AutoModelForSeq2SeqLM,\n",
        "    AutoTokenizer,\n",
        "    Seq2SeqTrainingArguments,\n",
        "    Seq2SeqTrainer,\n",
        "    DataCollatorForSeq2Seq,\n",
        ")\n",
        "\n",
        "from tabulate import tabulate\n",
        "import nltk\n",
        "from datetime import datetime"
      ],
      "metadata": {
        "id": "WZdXwNfuX-Ag"
      },
      "execution_count": null,
      "outputs": []
    },
    {
      "cell_type": "code",
      "source": [
        "model_name = 'facebook/bart-large-cnn'\n",
        "model_bartlarge = AutoModelForSeq2SeqLM.from_pretrained(model_name)\n",
        "tokenizer_bartlarge = AutoTokenizer.from_pretrained(model_name)\n",
        "''' # tokenization\n",
        "encoder_max_length = 256  # demo\n",
        "decoder_max_length = 64 '''"
      ],
      "metadata": {
        "id": "K0eX0PXBXsWd"
      },
      "execution_count": null,
      "outputs": []
    },
    {
      "cell_type": "code",
      "source": [
        "model_bart_base = BartForConditionalGeneration.from_pretrained('facebook/bart-base')\n",
        "tokenizerbb = BartTokenizer.from_pretrained('facebook/bart-base')\n",
        "\n",
        "model_bart_large = BartForConditionalGeneration.from_pretrained('facebook/bart-large')\n",
        "tokenizerbl = BartTokenizer.from_pretrained('facebook/bart-large')"
      ],
      "metadata": {
        "id": "0iryE7rgkYFg"
      },
      "execution_count": null,
      "outputs": []
    },
    {
      "cell_type": "code",
      "source": [
        "model_name = 'Udit191/autotrain-summarization-bart-50017120109'\n",
        "ourmodel = AutoModelForSeq2SeqLM.from_pretrained(model_name)\n",
        "ourtokenizer = AutoTokenizer.from_pretrained(model_name)"
      ],
      "metadata": {
        "id": "z6vgT7KE0ELR"
      },
      "execution_count": null,
      "outputs": []
    },
    {
      "cell_type": "markdown",
      "source": [
        "#Abbreviations Extracting"
      ],
      "metadata": {
        "id": "lIf8TQg5wT8f"
      }
    },
    {
      "cell_type": "code",
      "source": [
        "#extracting all abbreviations from decisions essentially\n",
        "import pandas as pd\n",
        "import re\n",
        "import os\n",
        "import nltk\n",
        "from nltk.stem import SnowballStemmer\n",
        "os.chdir('D:\\sem6\\mini_project')\n",
        "nltk.download('words')\n",
        "path = './training_data.csv'\n",
        "# Load Excel data into a Pandas DataFrame\n",
        "df = pd.read_csv(path)\n",
        "\n",
        "# Specify the column containing abbreviations\n",
        "abbrev_col = 'Decisions'\n",
        "\n",
        "# Create an empty list to store extracted abbreviations\n",
        "abbrev_list = []\n",
        "\n",
        "# Loop through each cell in the specified column and extract abbreviations using regex\n",
        "for cell in df[abbrev_col]:\n",
        "    abbrev_match = re.findall(r'\\b[a-zA-Z]+\\.', str(cell))\n",
        "    abbrev_list += abbrev_match\n",
        "abbrev_list = list(set(abbrev_list))\n",
        "abbrev_list = [match[:-1] for match in abbrev_list]\n",
        "english_words = set(nltk.corpus.words.words())\n",
        "nltk.download('snowball_data')\n",
        "stemmer = SnowballStemmer('english')\n",
        "stemmed_words = [stemmer.stem(word) for word in abbrev_list]\n",
        "filtered_words = [word for word in stemmed_words if word not in english_words]\n",
        "print(len(filtered_words))\n"
      ],
      "metadata": {
        "id": "P-vr1YB-wbUv"
      },
      "execution_count": null,
      "outputs": []
    },
    {
      "cell_type": "code",
      "source": [
        "import nltk\n",
        "nltk.download('wordnet')\n",
        "from nltk.corpus import wordnet\n",
        "\n",
        "# Example word to get forms for\n",
        "word = 'run'\n",
        "\n",
        "# Get the synsets for the word\n",
        "synsets = wordnet.synsets(word)\n",
        "\n",
        "# Get the lemmas for each synset and their inflected forms\n",
        "inflected_forms = []\n",
        "for synset in synsets:\n",
        "    for lemma in synset.lemmas():\n",
        "        inflected_forms.extend(lemma.derivationally_related_forms())\n",
        "\n",
        "# Get the unique inflected forms and print them\n",
        "unique_inflected_forms = set(inflected_forms)\n",
        "print(unique_inflected_forms)\n"
      ],
      "metadata": {
        "colab": {
          "base_uri": "https://localhost:8080/"
        },
        "id": "0G9k_NHewcIa",
        "outputId": "5ce03667-98d8-4ae5-f1a7-192fbe6133e5"
      },
      "execution_count": null,
      "outputs": [
        {
          "output_type": "stream",
          "name": "stderr",
          "text": [
            "[nltk_data] Downloading package wordnet to /root/nltk_data...\n"
          ]
        },
        {
          "output_type": "stream",
          "name": "stdout",
          "text": [
            "{Lemma('hunt.n.08.hunting'), Lemma('operation.n.08.functioning'), Lemma('disentangler.n.01.unraveller'), Lemma('plier.n.01.plier'), Lemma('racing.n.01.racing'), Lemma('range.n.06.range'), Lemma('racer.n.02.racer'), Lemma('fugitive.n.01.runaway'), Lemma('persistent.a.03.persistent'), Lemma('course.n.03.course'), Lemma('thaw.n.01.melting'), Lemma('test.v.06.test'), Lemma('consort.n.01.consort'), Lemma('executive.a.01.executive'), Lemma('running.s.06.operative'), Lemma('operant.s.01.operant'), Lemma('operation.n.11.operation'), Lemma('hunt.n.08.hunt'), Lemma('discharge.v.02.discharge'), Lemma('getaway.n.02.lam'), Lemma('meltable.s.01.meltable'), Lemma('inclination.n.05.inclination'), Lemma('campaign.v.01.campaign'), Lemma('run.v.24.run'), Lemma('black_market.n.01.black_market'), Lemma('fluid.s.02.runny'), Lemma('runner.n.02.runner'), Lemma('hunter.n.01.hunter'), Lemma('run.n.07.running'), Lemma('thaw.n.01.melt'), Lemma('flow.n.03.flow'), Lemma('operator.n.03.operator'), Lemma('race.n.02.race'), Lemma('campaigner.n.01.campaigner'), Lemma('flow.n.01.flowing'), Lemma('extent.n.02.extent'), Lemma('stream.n.01.stream'), Lemma('leaning.n.01.tendency'), Lemma('prevailing.s.01.prevalent'), Lemma('ladder.v.01.ladder'), Lemma('tally.v.03.tally'), Lemma('prevalence.n.01.prevalence'), Lemma('traditionalist.n.01.diehard'), Lemma('ravel.v.02.ravel')}\n"
          ]
        }
      ]
    },
    {
      "cell_type": "code",
      "source": [
        "from nltk.stem import SnowballStemmer\n",
        "import nltk\n",
        "nltk.download('words')\n",
        "path = '/content/drive/MyDrive/Mini-project/training_data.csv'\n",
        "\n",
        "# Load Excel data into a Pandas DataFrame\n",
        "df = pd.read_csv(path)\n",
        "\n",
        "# Specify the column containing abbreviations\n",
        "abbrev_col = 'Decisions'\n",
        "\n",
        "# Create an empty list to store extracted abbreviations\n",
        "abbrev_list = []\n",
        "\n",
        "# Loop through each cell in the specified column and extract abbreviations using regex\n",
        "for cell in df[abbrev_col]:\n",
        "    abbrev_match = re.findall(r'\\b[a-zA-Z]{5}\\.\\b', str(cell))\n",
        "    abbrev_list += abbrev_match\n",
        "abbrev_list = list(set(abbrev_list))\n",
        "abbrev_list = [match[:-1] for match in abbrev_list]\n",
        "english_words = set(nltk.corpus.words.words())\n",
        "nltk.download('snowball_data')\n",
        "stemmer = SnowballStemmer('english')\n",
        "stemmed_words = [stemmer.stem(word) for word in abbrev_list]\n",
        "filtered_words = [word for word in stemmed_words if word not in english_words]\n",
        "print((filtered_words))\n"
      ],
      "metadata": {
        "colab": {
          "base_uri": "https://localhost:8080/"
        },
        "id": "ZaQ_-5VTw4SD",
        "outputId": "bf9d486d-97d5-430f-fb5d-cc281cc8943e"
      },
      "execution_count": null,
      "outputs": [
        {
          "output_type": "stream",
          "name": "stderr",
          "text": [
            "[nltk_data] Downloading package words to /root/nltk_data...\n",
            "[nltk_data]   Package words is already up-to-date!\n"
          ]
        },
        {
          "output_type": "stream",
          "name": "stdout",
          "text": [
            "['laps', 'issu', 'pepsu', 'sens', 'asid', 'hous', 'entri', 'hindu', 'mahto', 'acr', 'leas', 'alon', 'hous', 'sabha', 'appli', 'marla', 'guid', 'forc', 'bihar', 'yadav', 'caus', 'fals', 'valu', 'titl', 'india', 'parti', 'vagu', 'versa', 'heard', 'basi', 'sinc', 'judg', 'faddi', 'aros', 'dutta', 'larg', 'tinu', 'gupta', 'delhi', 'abov', 'aliv', 'leav', 'katni', 'desai', 'gulab', 'fasli', 'bidi', 'poona', 'varma', 'naidu', 'aris']\n"
          ]
        },
        {
          "output_type": "stream",
          "name": "stderr",
          "text": [
            "[nltk_data] Downloading package snowball_data to /root/nltk_data...\n",
            "[nltk_data]   Package snowball_data is already up-to-date!\n"
          ]
        }
      ]
    },
    {
      "cell_type": "markdown",
      "source": [
        "# BART-LARGE-CNN\n",
        "\n",
        "---\n"
      ],
      "metadata": {
        "id": "6UfBJRqegixn"
      }
    },
    {
      "cell_type": "code",
      "source": [
        "training_data.columns\n"
      ],
      "metadata": {
        "colab": {
          "base_uri": "https://localhost:8080/"
        },
        "id": "eK4EyT_9hFtv",
        "outputId": "4c15bdab-036b-4be8-e70f-e55ce21d9cf1"
      },
      "execution_count": null,
      "outputs": [
        {
          "output_type": "execute_result",
          "data": {
            "text/plain": [
              "Index(['Decisions', 'Headnote'], dtype='object')"
            ]
          },
          "metadata": {},
          "execution_count": 8
        }
      ]
    },
    {
      "cell_type": "code",
      "source": [
        "len(training_data['Headnote'][0])"
      ],
      "metadata": {
        "colab": {
          "base_uri": "https://localhost:8080/"
        },
        "id": "27h-Os305k9h",
        "outputId": "01b9c1e6-f38f-4c2f-dbb6-491c05eed252"
      },
      "execution_count": null,
      "outputs": [
        {
          "output_type": "execute_result",
          "data": {
            "text/plain": [
              "403"
            ]
          },
          "metadata": {},
          "execution_count": 36
        }
      ]
    },
    {
      "cell_type": "code",
      "source": [
        "# Set the maximum sequence length for the model\n",
        "max_length = model_bartlarge.config.max_position_embeddings\n",
        "\n",
        "\n",
        "# Function to generate summary for a given input text\n",
        "def generate_summary_bartlarge(text):\n",
        "    input_ids = tokenizer_bartlarge.encode(text, max_length=max_length, truncation=True, return_tensors='pt')\n",
        "    summary_ids = model_bartlarge.generate(input_ids, num_beams=4, max_length=max_length, early_stopping=True)\n",
        "    summary = tokenizer_bartlarge.decode(summary_ids[0], skip_special_tokens=True)\n",
        "    return summary"
      ],
      "metadata": {
        "id": "6GEe3fK2vuIR"
      },
      "execution_count": null,
      "outputs": []
    },
    {
      "cell_type": "code",
      "source": [
        "text = training_data['Decisions'][0]"
      ],
      "metadata": {
        "id": "UA-cAGYHxLAY"
      },
      "execution_count": null,
      "outputs": []
    },
    {
      "cell_type": "code",
      "source": [
        "max_length"
      ],
      "metadata": {
        "colab": {
          "base_uri": "https://localhost:8080/"
        },
        "id": "GKS63L_myiBx",
        "outputId": "0f69fb12-354f-47c4-88a3-f5587749940c"
      },
      "execution_count": null,
      "outputs": [
        {
          "output_type": "execute_result",
          "data": {
            "text/plain": [
              "1024"
            ]
          },
          "metadata": {},
          "execution_count": 12
        }
      ]
    },
    {
      "cell_type": "code",
      "source": [
        "summary_text = generate_summary_bartlarge(text)"
      ],
      "metadata": {
        "id": "r7Oh0hE0xpC4"
      },
      "execution_count": null,
      "outputs": []
    },
    {
      "cell_type": "code",
      "source": [
        "summary_bartlarge = summary_text"
      ],
      "metadata": {
        "id": "83ksBuIjciBH"
      },
      "execution_count": null,
      "outputs": []
    },
    {
      "cell_type": "code",
      "source": [
        "print(len(summary_text))\n",
        "print(len(text))"
      ],
      "metadata": {
        "colab": {
          "base_uri": "https://localhost:8080/"
        },
        "id": "y2_oGvJ0ySBR",
        "outputId": "4b4668f6-421a-4afc-8d91-513f416168d2"
      },
      "execution_count": null,
      "outputs": [
        {
          "output_type": "stream",
          "name": "stdout",
          "text": [
            "432\n",
            "20618\n"
          ]
        }
      ]
    },
    {
      "cell_type": "code",
      "source": [
        "input_text = text\n",
        "\n",
        "# Split the input text into smaller segments\n",
        "segment_length = 512\n",
        "segments = [input_text[i:i+segment_length] for i in range(0, len(input_text), segment_length)]"
      ],
      "metadata": {
        "id": "YhbIu1-kzfZ5"
      },
      "execution_count": null,
      "outputs": []
    },
    {
      "cell_type": "code",
      "source": [
        "len(segments)"
      ],
      "metadata": {
        "colab": {
          "base_uri": "https://localhost:8080/"
        },
        "id": "GEcsNha4zlNJ",
        "outputId": "ec0782e0-4472-4714-98ca-f83b24d0f4d5"
      },
      "execution_count": null,
      "outputs": [
        {
          "output_type": "execute_result",
          "data": {
            "text/plain": [
              "41"
            ]
          },
          "metadata": {},
          "execution_count": 19
        }
      ]
    },
    {
      "cell_type": "code",
      "source": [
        "# Generate summaries for each segment\n",
        "summaries = []\n",
        "for segment in segments:\n",
        "    summary = generate_summary_bartlarge(segment)\n",
        "    summaries.append(summary)\n",
        "\n",
        "# Combine the summaries\n",
        "final_summary = \" \".join(summaries)\n",
        "print(\"Final Summary:\", final_summary)"
      ],
      "metadata": {
        "id": "sHTkgY1o0sE_"
      },
      "execution_count": null,
      "outputs": []
    },
    {
      "cell_type": "code",
      "source": [
        "final_summary"
      ],
      "metadata": {
        "id": "p9xHdFth6pJv",
        "colab": {
          "base_uri": "https://localhost:8080/",
          "height": 144
        },
        "outputId": "9b75cd2e-ea83-4d5e-b0c3-1c40ad5a48d7"
      },
      "execution_count": null,
      "outputs": [
        {
          "output_type": "execute_result",
          "data": {
            "text/plain": [
              "'HIDAYATULLAH, M.DAYAL, RAGHUBARCITATION: 1964 AIR 1263 1964 SCR (6) 172CITATOR INFO :R 1977 SC2252 (4)ACT:Criminal Trial-Penal Code-Conviction under s. 304 Part II. the series of acts which result in the offence. In the case of a person assaulted by many accused, the criminal act is the offence which finally results. The achievement of that criminal act may be the result of the action of several persons.Knowledge in s. 304 Part 11 is the knowledge of likelihood of death. he likely consequence of the criminal act, there is no reason why s. 34 should not be read with the second part of s. 304 to make each liable individually.lbra Akanda v. Emperor, I.L.R. [1942] 2 Cal. 405 and Saidu Khan v. State, I,L. R [1952] 1 All, 639, approved.Ramnath v Emperor, A.I.R 1943 All. 271, Shahibzada V. The Crown A.R 1950 Peshawar 24, Debi Chand Haldar v Emperor,. 41 C.W.N. 570 and Barendra Kumar Ghosh v Emperor. (1925) I. l.R 52 Cal. 197. Appeal by special leave from the judgment and order dated March 5, 1963, of the Calcutta High Court in Criminal Appeal No. 156 of 1963. Judgment of the Court was delivered by HIDAYATULLAH J.- January 7, 1964. Six appellants convicted by the Assistant Sessions Judge, Birbhum under s. 304 Part II read with s. 34 of the Indian Penal Code. Code and sentenced to six years\\' rigorous imprisonment each. Their appeal to the High Court was summarily dismissed. The High Court rejected the application for a certificate pointing out that the controveve point of law was confined to this point oflaw. The application for the certificate was rejected. rsy had been settled by a Full Bench decision of the High Court reported in Ibra Akanda v Emperor(1) The learned Judges were of the opinion that the point was not of sufficient importance for permitting the appellants to take an appeal to this Court. One Abdul Sheikh in the company of his son, Adut, aged 13, went to his field in village Noapara to uproot linseed plants. . This was on the morning of March 13, 1962. Abdul Sheikh took to his heels and was chased by these two appel- lants, who overtook him and threw him down on the ground. Immediately thereafter, there appeared on the scene the re- maining appellants. Jarahim was armed with a ballam and he started to hit Abdul Sheikh on his legs with the ballam. rrived with a sabal (crowbar), and began to strike Abdul Sheikh and the appellant, Mesher.began to hit Abdul Sheikh with a lathi. All this, while, the sixth appellant, Makid, held Abdul Sheikh by the legs and Afrahim and Jesed held him down by his head and shoulders. The incident was witnessed by Adut and two, others, and it is on the testimony of Adut. and these two (1) I.L.R.(1944) 2 Cal. 405.174 other witnesses, to whom reference is unnecessary, that the learned Assistant Sessions Judge, Birbhum, came. to the con- clusion that the offence was committed in the manner described above. Abdul Sheikh was seriously injured; both his legs below the knee were fractured and one arm above the wrist was also fractured. He had also some incised wounds and some bruises. Dr. Bashiruddin stated on oath that Abdul Sheikh narrated to him the incident and named all the six appellants. ents were being made for recording his dying declaration, he succumbed to his injuries. He had, however, made dying declarations to some of the prosecution witnesses and they have deposed to the fact that he had named the six appellants as his assailants. In this appeal, we did not allow Dr. D. N. Mukherjee, counsel for the appellants, to argue on facts. Lodge J. relies upon the minority decision of Das J. (as he then was) in Ibra A kanda v Emperor(1) In that case, the learned Judge had expressed the opinion that s. 34 was incapable of being read with the second Part of s. 304. Mr.Mukherjee drew our attention to three other cases in which a view supporting his contention appears to have been taken. The first is a single Judge decision of the Allahabad High Court reported in Ramnath v. Emperor(2) The other is a Division Bench case from Peshawar reported in Sahibzada v.The Crown(3) Chakravarti relied upon a Full Bench decision of the Allahabad High Court reported in Saidu Khan v. State (1) where it has been clearly held that s. 34 can be so read. Apart from  the. essential facts, we shall refer to the essential facts once again. The facts proved in the case clearly establish that Abdul Sheikh had gone for a peaceful purpose in the company of his young son. He was chased by two of the appellants and caught and felled to the ground. After this the remaining four appellants appeared and beat Abdul Sheikh with diverse weapons, while those who were not armed, held him pinned to the gro \"Common intention must exist before the criminal act is perpetrated, and that is the essence of s. 34\" \"The six accused could not but by a prior concert have appeared simultaneously at the scene, and chased and shot at each other,\" the court said. \"The act took place in furtherance of a common intention,\" it added. overthrown the victim, held him down and beaten him. The facts disclosed in the evidence clearly establish a prior concert amongst the six appellants. It has been so inhered by the Assistant Sessions Judge, and we see no reason to differ from him. We shall proceed to examine whether s. 34 I.P.C. can be made applicable for the purpose of holding that culpable homicide not amo unting to murder was committed, and that each of the appellant was responsible for the offence. Section 34 of the Indian Penal Code reads as follows:\"When a criminal act is done by several persons, in furtherance of the common intention of all, each (1) I.L.R. [1952] 1 AlL 639.176 of such persons is liable for that act in the same manner as if it were done by him alone\" as was stated by the Judicial Committee, in Barendra Kumar Ghosh\\'s case. Here, the beating was perpetrated not by a single individual but by three persons with whom others were acting in concert. The criminal act resulted in the criminal offence of culpable homicide not amounting to murder. to that. Whether all the appellants individually would be responsible for the death of Abdul Sheikh is the question to be determined, and that conclusion can only be reached if it can be said that the act which was committed was done in furtherance of a common intention. It is argued that s. 304 makes a difference in its two parts between the commission of the offence of culpable homicide with a particular intention and theCommission of the same offence without that intention. Section 304 reads as follows: \"Whoever commits culpable homicide not amounting to murder, shall be punished with imprisonment for life, or imprisonment of either description for a term which may extend to ten years\" It is urged\\' that this distinction makes it impossible that s. 34 which deals only with common intention can be read with it. The law does not define culpable homicide not amounting to murder. That definition is to be found in s. 299, which provides:\"Whoever causes death by doing an act with the int.to cause death;or with imprisonment of either description for a term which may extend to ten years, or with fine. or with both\" Culpable homicide is the causing of the death of a person in three ways. It is committed with the intention of causing such bodily injury as is likely to cause death, or with the knowledge that the offender is likely by such act to cause the death. The offence of culpable homicide can be committed in any of the following ways: with intent to kill, with intention to cause bodily injury, and with knowledge of likely death. culpable homicide becomes murder when four circumstances exist. They are mentioned in s. 300. A number of excep- tions are however included, and those exceptions show extenuating circumstances on strict proof of which the offence is again brought down to culpable homicide. It is obvious that the offence which was committed was one under s. 304. The offence is of causing hurt either simple or grievous. In the present case however death was not the result of the act of a single individual but was the. result of a deliberate act. e act of several persons, and they shared the common intention, namely, the commission of the act or acts by which death was occasioned. Section 35 is as follows:134-159 S.C.-12.178 \"Whenever an act, which is criminal only by reason of its being done with a criminal knowledge or intention, is done by several persons\" Under s. 37, \"when an offence is committed by means of several acts, whoever intentionally co-operates in the commission of that offence by doing any on\" This section also was applicable here. In this section also the responsibility is shared by each offender individually if the act is criminal only by reason of certain criminal knowledge or intention. Section 38 of the Criminal Procedure Act provides for co-operating in the commission of a criminal act. By co- operating in the doing of several acts which together constitute a single criminal act, each person who co- operates in that offence is either singly or jointly liable for that offence. Even though several persons may do a single criminal act, the responsibility may vary according to the degree of their participation. The illustration which is given clearly brings out that point. Viewing these sections in this manner it is obvious that two sections deal with individual responsibility and the third with co- operation. een several accused in the completion of the criminal act (s. 37). Lastly s. 38 provides that the responsibility for the completed criminal act may be of different grades according to the share taken by the different accused. This section does not mention anything about intention common or otherwise or knowledge. whole, but to the criminal act, that is to say, the totality of the series of acts which result in the offence. The criminal act is the offence which finally -results, though the achievement of that criminal act may be -the result of action of several persons. No doubt, a person is only responsible ordinarily for what he does and s. 38 -ensures that; but the law in s.34 (and also s. 35) says that if the criminal acts is the result of a common intention, then it is a criminal act. In Barendra Kumar Ghosh\\'s case, the Judicial Committee observed that every person who did the criminal act with the common intention would be responsible for the total offence irrespective of the share which he had in its perpetration. \\'That act\\' and then again \\'it\\' in the latter. The whole of the -result perpetrated by several offenders, is attributable to each,offender, notwithstanding that individually they may have done separate acts, diverse or similar. Applying this test to the present case, if all the appellants shared the common intention of severely beating Abdul Sheikh and some held him down and others beat him with t. heir weapons, provided the common intention is accepted, they would all be responsible for the whole of the criminal act. Say, the criminal offence of culpable homicide not amounting -,to murder which was committed, irrespective of the part played by them. The common intention which is required by the section is not the intention which s. 299 mentions in its first part. That they did diverse acts would ordinarily make their responsibility individual for their own acts. But because of the common intention, they would be responsible for the total effect that they produced if any of the three conditions in s. 299, I.P.C. applied to their case. If it were a case of the first two conditions,  The question is whether the second part of s. 304 can be made applicable. The second part no doubt speaks of knowledge and does not refer to intention which has been segregated in the first part. Can it be said that when three or four persons start beating a man with heavy lathes, each. hitting his blow with the common intention of severely beating him and each possessi. If it could be said that knowledge of this type was possible in the case of each one of the appellants, there is no reason why s. 304, Part II cannot be read with s. 34. The common intention is with regard to the criminal act, i.e., the act of beating. This matter has been elaborately considered in the judgment of Lodge J. and again in the Full Bench decision of the Allahabad High Court. We do not think that we need say more on this, because we are in agreement with the decision given by the majority in the Calcutta High Court case. he Allahabad High, Court. It appears to us that in other cases doubt was felt because s. 304 is in two parts, and first part is concerned with culpable homicide committed with two types of intention and the second part with culpABLE homicide committed. with a particular knowledge. In our opinion, the learned Judges who held that view fell into the error of Previous concert which is insisted upon is the meeting of the minds regarding the achievement of a criminal act. That circumstance is completely fulfilled in a case like the present where a large number of persons attack an individual, chase hi. viewing the second part of s. 3,04 divorced from common intention whatever. A person does not do an act except with a certain intention, and the common intention which is requisite for the application of. s. 34 is the common intend of perpetrating a particular act. m, throw him on the ground and beat him till he dies. Even if the,offence does not come to the grade of murder, and is only culpable homicide not amounting to murder, there is no doubt whatever that the offence is shared by all of them, and s. 34 then makes the responsibility several. Appeal dismissed.ction of the appellants was proper, and see no reason to interfere.In the result, the appeal fails and is dismissed. The appeal was dismissed and the case was settled out of court. The case was decided by the Supreme Court of the United States of America.'"
            ],
            "application/vnd.google.colaboratory.intrinsic+json": {
              "type": "string"
            }
          },
          "metadata": {},
          "execution_count": 22
        }
      ]
    },
    {
      "cell_type": "code",
      "source": [
        "# Set the maximum sequence length for the model\n",
        "max_length = model.config.max_position_embeddings\n",
        "\n",
        "# Function to generate summary for a given input text\n",
        "def generate_summary(text):\n",
        "    input_ids = tokenizer.encode(text, max_length=max_length, truncation=True, return_tensors='pt')\n",
        "    summary_ids = model.generate(input_ids, num_beams=4, max_length=100, early_stopping=True)\n",
        "    summary = tokenizer.decode(summary_ids[0], skip_special_tokens=True)\n",
        "    return summary\n",
        "\n",
        "# Generate summaries for all rows and store in a new column 'summary'\n",
        "training_data['summary'] = training_data['Decisions'].apply(generate_summary)\n",
        "\n",
        "# Print the DataFrame with the added 'summary' column\n",
        "print(training_data)"
      ],
      "metadata": {
        "id": "elCaWbFzhanG"
      },
      "execution_count": null,
      "outputs": []
    },
    {
      "cell_type": "code",
      "source": [
        "training_data.to_csv('training_data.csv', index=False)"
      ],
      "metadata": {
        "id": "VERaPD18moan"
      },
      "execution_count": null,
      "outputs": []
    },
    {
      "cell_type": "markdown",
      "source": [
        "#Correcting Grammar\n"
      ],
      "metadata": {
        "id": "auO_uV0nMoSZ"
      }
    },
    {
      "cell_type": "code",
      "source": [
        "!pip install language-tool-python"
      ],
      "metadata": {
        "colab": {
          "base_uri": "https://localhost:8080/"
        },
        "id": "euj0bxxcMzUB",
        "outputId": "3ffdb7e7-5642-4f55-fa43-ae7aa689a19e"
      },
      "execution_count": null,
      "outputs": [
        {
          "output_type": "stream",
          "name": "stdout",
          "text": [
            "Looking in indexes: https://pypi.org/simple, https://us-python.pkg.dev/colab-wheels/public/simple/\n",
            "Collecting language-tool-python\n",
            "  Downloading language_tool_python-2.7.1-py3-none-any.whl (34 kB)\n",
            "Requirement already satisfied: requests in /usr/local/lib/python3.10/dist-packages (from language-tool-python) (2.27.1)\n",
            "Requirement already satisfied: tqdm in /usr/local/lib/python3.10/dist-packages (from language-tool-python) (4.65.0)\n",
            "Requirement already satisfied: certifi>=2017.4.17 in /usr/local/lib/python3.10/dist-packages (from requests->language-tool-python) (2022.12.7)\n",
            "Requirement already satisfied: idna<4,>=2.5 in /usr/local/lib/python3.10/dist-packages (from requests->language-tool-python) (3.4)\n",
            "Requirement already satisfied: urllib3<1.27,>=1.21.1 in /usr/local/lib/python3.10/dist-packages (from requests->language-tool-python) (1.26.15)\n",
            "Requirement already satisfied: charset-normalizer~=2.0.0 in /usr/local/lib/python3.10/dist-packages (from requests->language-tool-python) (2.0.12)\n",
            "Installing collected packages: language-tool-python\n",
            "Successfully installed language-tool-python-2.7.1\n"
          ]
        }
      ]
    },
    {
      "cell_type": "code",
      "source": [
        "from language_tool_python import LanguageTool\n",
        "\n",
        "def correct_grammar(text):\n",
        "    tool = LanguageTool('en-US')  # Specify the language you want to check\n",
        "\n",
        "    # Check grammar and get suggestions\n",
        "    matches = tool.check(text)\n",
        "\n",
        "    # Correct grammar using suggestions\n",
        "    corrected_text = LanguageTool.correct(text, matches)\n",
        "\n",
        "    return corrected_text\n",
        "\n",
        "# Example usage\n",
        "concatenated_summary = final_summary\n",
        "\n",
        "corrected_summary = correct_grammar(concatenated_summary)\n",
        "print(corrected_summary)\n"
      ],
      "metadata": {
        "colab": {
          "base_uri": "https://localhost:8080/",
          "height": 501
        },
        "id": "p3A2uvn0MqUQ",
        "outputId": "ec9ad3d2-eb41-478e-8fbb-2c351d8d1bba"
      },
      "execution_count": null,
      "outputs": [
        {
          "output_type": "error",
          "ename": "AttributeError",
          "evalue": "ignored",
          "traceback": [
            "\u001b[0;31m---------------------------------------------------------------------------\u001b[0m",
            "\u001b[0;31mAttributeError\u001b[0m                            Traceback (most recent call last)",
            "\u001b[0;32m<ipython-input-21-7a208ec5b414>\u001b[0m in \u001b[0;36m<cell line: 17>\u001b[0;34m()\u001b[0m\n\u001b[1;32m     15\u001b[0m \u001b[0mconcatenated_summary\u001b[0m \u001b[0;34m=\u001b[0m \u001b[0mfinal_summary\u001b[0m\u001b[0;34m\u001b[0m\u001b[0;34m\u001b[0m\u001b[0m\n\u001b[1;32m     16\u001b[0m \u001b[0;34m\u001b[0m\u001b[0m\n\u001b[0;32m---> 17\u001b[0;31m \u001b[0mcorrected_summary\u001b[0m \u001b[0;34m=\u001b[0m \u001b[0mcorrect_grammar\u001b[0m\u001b[0;34m(\u001b[0m\u001b[0mconcatenated_summary\u001b[0m\u001b[0;34m)\u001b[0m\u001b[0;34m\u001b[0m\u001b[0;34m\u001b[0m\u001b[0m\n\u001b[0m\u001b[1;32m     18\u001b[0m \u001b[0mprint\u001b[0m\u001b[0;34m(\u001b[0m\u001b[0mcorrected_summary\u001b[0m\u001b[0;34m)\u001b[0m\u001b[0;34m\u001b[0m\u001b[0;34m\u001b[0m\u001b[0m\n",
            "\u001b[0;32m<ipython-input-21-7a208ec5b414>\u001b[0m in \u001b[0;36mcorrect_grammar\u001b[0;34m(text)\u001b[0m\n\u001b[1;32m      8\u001b[0m \u001b[0;34m\u001b[0m\u001b[0m\n\u001b[1;32m      9\u001b[0m     \u001b[0;31m# Correct grammar using suggestions\u001b[0m\u001b[0;34m\u001b[0m\u001b[0;34m\u001b[0m\u001b[0m\n\u001b[0;32m---> 10\u001b[0;31m     \u001b[0mcorrected_text\u001b[0m \u001b[0;34m=\u001b[0m \u001b[0mLanguageTool\u001b[0m\u001b[0;34m.\u001b[0m\u001b[0mcorrect\u001b[0m\u001b[0;34m(\u001b[0m\u001b[0mtext\u001b[0m\u001b[0;34m,\u001b[0m \u001b[0mmatches\u001b[0m\u001b[0;34m)\u001b[0m\u001b[0;34m\u001b[0m\u001b[0;34m\u001b[0m\u001b[0m\n\u001b[0m\u001b[1;32m     11\u001b[0m \u001b[0;34m\u001b[0m\u001b[0m\n\u001b[1;32m     12\u001b[0m     \u001b[0;32mreturn\u001b[0m \u001b[0mcorrected_text\u001b[0m\u001b[0;34m\u001b[0m\u001b[0;34m\u001b[0m\u001b[0m\n",
            "\u001b[0;32m/usr/local/lib/python3.10/dist-packages/language_tool_python/server.py\u001b[0m in \u001b[0;36mcorrect\u001b[0;34m(self, text)\u001b[0m\n\u001b[1;32m    151\u001b[0m     \u001b[0;32mdef\u001b[0m \u001b[0mcorrect\u001b[0m\u001b[0;34m(\u001b[0m\u001b[0mself\u001b[0m\u001b[0;34m,\u001b[0m \u001b[0mtext\u001b[0m\u001b[0;34m:\u001b[0m \u001b[0mstr\u001b[0m\u001b[0;34m)\u001b[0m \u001b[0;34m->\u001b[0m \u001b[0mstr\u001b[0m\u001b[0;34m:\u001b[0m\u001b[0;34m\u001b[0m\u001b[0;34m\u001b[0m\u001b[0m\n\u001b[1;32m    152\u001b[0m         \u001b[0;34m\"\"\"Automatically apply suggestions to the text.\"\"\"\u001b[0m\u001b[0;34m\u001b[0m\u001b[0;34m\u001b[0m\u001b[0m\n\u001b[0;32m--> 153\u001b[0;31m         \u001b[0;32mreturn\u001b[0m \u001b[0mcorrect\u001b[0m\u001b[0;34m(\u001b[0m\u001b[0mtext\u001b[0m\u001b[0;34m,\u001b[0m \u001b[0mself\u001b[0m\u001b[0;34m.\u001b[0m\u001b[0mcheck\u001b[0m\u001b[0;34m(\u001b[0m\u001b[0mtext\u001b[0m\u001b[0;34m)\u001b[0m\u001b[0;34m)\u001b[0m\u001b[0;34m\u001b[0m\u001b[0;34m\u001b[0m\u001b[0m\n\u001b[0m\u001b[1;32m    154\u001b[0m \u001b[0;34m\u001b[0m\u001b[0m\n\u001b[1;32m    155\u001b[0m     \u001b[0;32mdef\u001b[0m \u001b[0menable_spellchecking\u001b[0m\u001b[0;34m(\u001b[0m\u001b[0mself\u001b[0m\u001b[0;34m)\u001b[0m\u001b[0;34m:\u001b[0m\u001b[0;34m\u001b[0m\u001b[0;34m\u001b[0m\u001b[0m\n",
            "\u001b[0;31mAttributeError\u001b[0m: 'str' object has no attribute 'check'"
          ]
        }
      ]
    },
    {
      "cell_type": "markdown",
      "source": [
        "# BART-BASE"
      ],
      "metadata": {
        "id": "f9VdtLu5ggI7"
      }
    },
    {
      "cell_type": "code",
      "source": [
        "# Set the maximum sequence length for the model\n",
        "max_length = model_bart_base.config.max_position_embeddings\n",
        "\n",
        "\n",
        "# Function to generate summary for a given input text\n",
        "def generate_summary_bartbase(text):\n",
        "    input_ids = tokenizerbb.encode(text, max_length=max_length, truncation=True, return_tensors='pt')\n",
        "    summary_ids = model_bart_base.generate(input_ids, num_beams=4, max_length=max_length, early_stopping=True)\n",
        "    summary = tokenizerbb.decode(summary_ids[0], skip_special_tokens=True)\n",
        "    return summary"
      ],
      "metadata": {
        "id": "Du68Jpy9dHPT"
      },
      "execution_count": null,
      "outputs": []
    },
    {
      "cell_type": "code",
      "source": [
        "summary_bartbase = generate_summary_bartbase(text)"
      ],
      "metadata": {
        "colab": {
          "base_uri": "https://localhost:8080/"
        },
        "id": "3YogJcsKddV1",
        "outputId": "2511549a-1382-42ae-83bb-ad36dec905b9"
      },
      "execution_count": null,
      "outputs": [
        {
          "output_type": "stream",
          "name": "stderr",
          "text": [
            "Generate config GenerationConfig {\n",
            "  \"_from_model_config\": true,\n",
            "  \"bos_token_id\": 0,\n",
            "  \"decoder_start_token_id\": 2,\n",
            "  \"early_stopping\": true,\n",
            "  \"eos_token_id\": 2,\n",
            "  \"forced_bos_token_id\": 0,\n",
            "  \"forced_eos_token_id\": 2,\n",
            "  \"no_repeat_ngram_size\": 3,\n",
            "  \"num_beams\": 4,\n",
            "  \"pad_token_id\": 1,\n",
            "  \"transformers_version\": \"4.28.1\"\n",
            "}\n",
            "\n"
          ]
        }
      ]
    },
    {
      "cell_type": "markdown",
      "source": [
        "#"
      ],
      "metadata": {
        "id": "ooY6wEFueO7M"
      }
    },
    {
      "cell_type": "markdown",
      "source": [
        "#Our Model"
      ],
      "metadata": {
        "id": "tdfbPka10Voe"
      }
    },
    {
      "cell_type": "code",
      "source": [
        "# Set the maximum sequence length for the model\n",
        "max_length = model_bart_base.config.max_position_embeddings\n",
        "\n",
        "\n",
        "# Function to generate summary for a given input text\n",
        "def generate_summary_ourmodel(text):\n",
        "    input_ids = ourtokenizer.encode(text, max_length=max_length, truncation=True, return_tensors='pt')\n",
        "    summary_ids = ourmodel.generate(input_ids, num_beams=4, max_length=max_length, early_stopping=True)\n",
        "    summary = ourtokenizer.decode(summary_ids[0], skip_special_tokens=True)\n",
        "    return summary"
      ],
      "metadata": {
        "id": "q6qAArY50XxV"
      },
      "execution_count": null,
      "outputs": []
    },
    {
      "cell_type": "code",
      "source": [
        "summary_ourmodel = generate_summary_ourmodel(text)"
      ],
      "metadata": {
        "id": "AF4hQ4br0gQs"
      },
      "execution_count": null,
      "outputs": []
    },
    {
      "cell_type": "code",
      "source": [],
      "metadata": {
        "id": "SwEbfrNi0Yy5"
      },
      "execution_count": null,
      "outputs": []
    },
    {
      "cell_type": "markdown",
      "source": [
        "#ROUGE SCORES"
      ],
      "metadata": {
        "id": "gsNw53Zo4vJ3"
      }
    },
    {
      "cell_type": "code",
      "source": [
        "from rouge_score import rouge_scorer"
      ],
      "metadata": {
        "id": "MBI5zYZX4wrv"
      },
      "execution_count": null,
      "outputs": []
    },
    {
      "cell_type": "code",
      "source": [
        "reference_summary = summary_bartbase\n",
        "\n",
        "\n",
        "scorer = rouge_scorer.RougeScorer(['rouge1', 'rouge2', 'rougeL'], use_stemmer=True)\n",
        "scores = scorer.score(reference_summary, text)\n",
        "\n",
        "rouge1_bartbase = scores['rouge1'].fmeasure\n",
        "rouge2_bartbase = scores['rouge2'].fmeasure\n",
        "rougeL_bartbase = scores['rougeL'].fmeasure\n",
        "print('Bart-base:')\n",
        "print(\"ROUGE-1 Score:\", rouge1_bartbase)\n",
        "print(\"ROUGE-2 Score:\", rouge2_bartbase)\n",
        "print(\"ROUGE-L Score:\", rougeL_bartbase)"
      ],
      "metadata": {
        "colab": {
          "base_uri": "https://localhost:8080/"
        },
        "id": "K9APbxOvg3AC",
        "outputId": "c492d91c-511d-40ae-9eb1-ed7897fdf59a"
      },
      "execution_count": null,
      "outputs": [
        {
          "output_type": "stream",
          "name": "stdout",
          "text": [
            "Bart-base:\n",
            "ROUGE-1 Score: 0.31163620151582705\n",
            "ROUGE-2 Score: 0.26806422836752897\n",
            "ROUGE-L Score: 0.23539901917075348\n"
          ]
        }
      ]
    },
    {
      "cell_type": "code",
      "source": [
        "reference_summary = summary_bartlarge\n",
        "scorer = rouge_scorer.RougeScorer(['rouge1', 'rouge2', 'rougeL'], use_stemmer=True)\n",
        "scores = scorer.score(reference_summary, text)\n",
        "\n",
        "rouge1_bartlarge = scores['rouge1'].fmeasure\n",
        "rouge2_bartlarge = scores['rouge2'].fmeasure\n",
        "rougeL_bartlarge = scores['rougeL'].fmeasure\n",
        "print('Bart-base:')\n",
        "print(\"ROUGE-1 Score:\", rouge1_bartlarge)\n",
        "print(\"ROUGE-2 Score:\", rouge2_bartlarge)\n",
        "print(\"ROUGE-L Score:\", rougeL_bartlarge)"
      ],
      "metadata": {
        "colab": {
          "base_uri": "https://localhost:8080/"
        },
        "id": "4jYPv5nxhnvT",
        "outputId": "15fea5e0-f4bb-405c-bc9e-31c9dccfb787"
      },
      "execution_count": null,
      "outputs": [
        {
          "output_type": "stream",
          "name": "stdout",
          "text": [
            "Bart-base:\n",
            "ROUGE-1 Score: 0.03829006031995804\n",
            "ROUGE-2 Score: 0.0372605615324062\n",
            "ROUGE-L Score: 0.03776553894571204\n"
          ]
        }
      ]
    },
    {
      "cell_type": "code",
      "source": [
        "reference_summary = final_summary\n",
        "scorer = rouge_scorer.RougeScorer(['rouge1', 'rouge2', 'rougeL'], use_stemmer=True)\n",
        "scores = scorer.score(reference_summary, text)\n",
        "\n",
        "rouge1 = scores['rouge1'].fmeasure\n",
        "rouge2 = scores['rouge2'].fmeasure\n",
        "rougeL = scores['rougeL'].fmeasure\n",
        "print('Bart_large_cnn_divided:')\n",
        "print(\"ROUGE-1 Score:\", rouge1)\n",
        "print(\"ROUGE-2 Score:\", rouge2)\n",
        "print(\"ROUGE-L Score:\", rougeL)"
      ],
      "metadata": {
        "colab": {
          "base_uri": "https://localhost:8080/"
        },
        "id": "5bhk4l-iiG5L",
        "outputId": "23bc7842-755d-4b4d-fea4-cf6857ea2da4"
      },
      "execution_count": null,
      "outputs": [
        {
          "output_type": "stream",
          "name": "stdout",
          "text": [
            "Bart_large_cnn_divided:\n",
            "ROUGE-1 Score: 0.7861048568671598\n",
            "ROUGE-2 Score: 0.741956241956242\n",
            "ROUGE-L Score: 0.7137343197169507\n"
          ]
        }
      ]
    },
    {
      "cell_type": "code",
      "source": [
        "final_summary"
      ],
      "metadata": {
        "colab": {
          "base_uri": "https://localhost:8080/",
          "height": 144
        },
        "id": "oznCFS5ci_Fo",
        "outputId": "e4cafd77-4b7e-4d5a-b23b-2226aa23d930"
      },
      "execution_count": null,
      "outputs": [
        {
          "output_type": "execute_result",
          "data": {
            "text/plain": [
              "'HIDAYATULLAH, M.DAYAL, RAGHUBARCITATION: 1964 AIR 1263 1964 SCR (6) 172CITATOR INFO :R 1977 SC2252 (4)ACT:Criminal Trial-Penal Code-Conviction under s. 304 Part II. the series of acts which result in the offence. In the case of a person assaulted by many accused, the criminal act is the offence which finally results. The achievement of that criminal act may be the result of the action of several persons.Knowledge in s. 304 Part 11 is the knowledge of likelihood of death. he likely consequence of the criminal act, there is no reason why s. 34 should not be read with the second part of s. 304 to make each liable individually.lbra Akanda v. Emperor, I.L.R. [1942] 2 Cal. 405 and Saidu Khan v. State, I,L. R [1952] 1 All, 639, approved.Ramnath v Emperor, A.I.R 1943 All. 271, Shahibzada V. The Crown A.R 1950 Peshawar 24, Debi Chand Haldar v Emperor,. 41 C.W.N. 570 and Barendra Kumar Ghosh v Emperor. (1925) I. l.R 52 Cal. 197. Appeal by special leave from the judgment and order dated March 5, 1963, of the Calcutta High Court in Criminal Appeal No. 156 of 1963. Judgment of the Court was delivered by HIDAYATULLAH J.- January 7, 1964. Six appellants convicted by the Assistant Sessions Judge, Birbhum under s. 304 Part II read with s. 34 of the Indian Penal Code. Code and sentenced to six years\\' rigorous imprisonment each. Their appeal to the High Court was summarily dismissed. The High Court rejected the application for a certificate pointing out that the controveve point of law was confined to this point oflaw. The application for the certificate was rejected. rsy had been settled by a Full Bench decision of the High Court reported in Ibra Akanda v Emperor(1) The learned Judges were of the opinion that the point was not of sufficient importance for permitting the appellants to take an appeal to this Court. One Abdul Sheikh in the company of his son, Adut, aged 13, went to his field in village Noapara to uproot linseed plants. . This was on the morning of March 13, 1962. Abdul Sheikh took to his heels and was chased by these two appel- lants, who overtook him and threw him down on the ground. Immediately thereafter, there appeared on the scene the re- maining appellants. Jarahim was armed with a ballam and he started to hit Abdul Sheikh on his legs with the ballam. rrived with a sabal (crowbar), and began to strike Abdul Sheikh and the appellant, Mesher.began to hit Abdul Sheikh with a lathi. All this, while, the sixth appellant, Makid, held Abdul Sheikh by the legs and Afrahim and Jesed held him down by his head and shoulders. The incident was witnessed by Adut and two, others, and it is on the testimony of Adut. and these two (1) I.L.R.(1944) 2 Cal. 405.174 other witnesses, to whom reference is unnecessary, that the learned Assistant Sessions Judge, Birbhum, came. to the con- clusion that the offence was committed in the manner described above. Abdul Sheikh was seriously injured; both his legs below the knee were fractured and one arm above the wrist was also fractured. He had also some incised wounds and some bruises. Dr. Bashiruddin stated on oath that Abdul Sheikh narrated to him the incident and named all the six appellants. ents were being made for recording his dying declaration, he succumbed to his injuries. He had, however, made dying declarations to some of the prosecution witnesses and they have deposed to the fact that he had named the six appellants as his assailants. In this appeal, we did not allow Dr. D. N. Mukherjee, counsel for the appellants, to argue on facts. Lodge J. relies upon the minority decision of Das J. (as he then was) in Ibra A kanda v Emperor(1) In that case, the learned Judge had expressed the opinion that s. 34 was incapable of being read with the second Part of s. 304. Mr.Mukherjee drew our attention to three other cases in which a view supporting his contention appears to have been taken. The first is a single Judge decision of the Allahabad High Court reported in Ramnath v. Emperor(2) The other is a Division Bench case from Peshawar reported in Sahibzada v.The Crown(3) Chakravarti relied upon a Full Bench decision of the Allahabad High Court reported in Saidu Khan v. State (1) where it has been clearly held that s. 34 can be so read. Apart from  the. essential facts, we shall refer to the essential facts once again. The facts proved in the case clearly establish that Abdul Sheikh had gone for a peaceful purpose in the company of his young son. He was chased by two of the appellants and caught and felled to the ground. After this the remaining four appellants appeared and beat Abdul Sheikh with diverse weapons, while those who were not armed, held him pinned to the gro \"Common intention must exist before the criminal act is perpetrated, and that is the essence of s. 34\" \"The six accused could not but by a prior concert have appeared simultaneously at the scene, and chased and shot at each other,\" the court said. \"The act took place in furtherance of a common intention,\" it added. overthrown the victim, held him down and beaten him. The facts disclosed in the evidence clearly establish a prior concert amongst the six appellants. It has been so inhered by the Assistant Sessions Judge, and we see no reason to differ from him. We shall proceed to examine whether s. 34 I.P.C. can be made applicable for the purpose of holding that culpable homicide not amo unting to murder was committed, and that each of the appellant was responsible for the offence. Section 34 of the Indian Penal Code reads as follows:\"When a criminal act is done by several persons, in furtherance of the common intention of all, each (1) I.L.R. [1952] 1 AlL 639.176 of such persons is liable for that act in the same manner as if it were done by him alone\" as was stated by the Judicial Committee, in Barendra Kumar Ghosh\\'s case. Here, the beating was perpetrated not by a single individual but by three persons with whom others were acting in concert. The criminal act resulted in the criminal offence of culpable homicide not amounting to murder. to that. Whether all the appellants individually would be responsible for the death of Abdul Sheikh is the question to be determined, and that conclusion can only be reached if it can be said that the act which was committed was done in furtherance of a common intention. It is argued that s. 304 makes a difference in its two parts between the commission of the offence of culpable homicide with a particular intention and theCommission of the same offence without that intention. Section 304 reads as follows: \"Whoever commits culpable homicide not amounting to murder, shall be punished with imprisonment for life, or imprisonment of either description for a term which may extend to ten years\" It is urged\\' that this distinction makes it impossible that s. 34 which deals only with common intention can be read with it. The law does not define culpable homicide not amounting to murder. That definition is to be found in s. 299, which provides:\"Whoever causes death by doing an act with the int.to cause death;or with imprisonment of either description for a term which may extend to ten years, or with fine. or with both\" Culpable homicide is the causing of the death of a person in three ways. It is committed with the intention of causing such bodily injury as is likely to cause death, or with the knowledge that the offender is likely by such act to cause the death. The offence of culpable homicide can be committed in any of the following ways: with intent to kill, with intention to cause bodily injury, and with knowledge of likely death. culpable homicide becomes murder when four circumstances exist. They are mentioned in s. 300. A number of excep- tions are however included, and those exceptions show extenuating circumstances on strict proof of which the offence is again brought down to culpable homicide. It is obvious that the offence which was committed was one under s. 304. The offence is of causing hurt either simple or grievous. In the present case however death was not the result of the act of a single individual but was the. result of a deliberate act. e act of several persons, and they shared the common intention, namely, the commission of the act or acts by which death was occasioned. Section 35 is as follows:134-159 S.C.-12.178 \"Whenever an act, which is criminal only by reason of its being done with a criminal knowledge or intention, is done by several persons\" Under s. 37, \"when an offence is committed by means of several acts, whoever intentionally co-operates in the commission of that offence by doing any on\" This section also was applicable here. In this section also the responsibility is shared by each offender individually if the act is criminal only by reason of certain criminal knowledge or intention. Section 38 of the Criminal Procedure Act provides for co-operating in the commission of a criminal act. By co- operating in the doing of several acts which together constitute a single criminal act, each person who co- operates in that offence is either singly or jointly liable for that offence. Even though several persons may do a single criminal act, the responsibility may vary according to the degree of their participation. The illustration which is given clearly brings out that point. Viewing these sections in this manner it is obvious that two sections deal with individual responsibility and the third with co- operation. een several accused in the completion of the criminal act (s. 37). Lastly s. 38 provides that the responsibility for the completed criminal act may be of different grades according to the share taken by the different accused. This section does not mention anything about intention common or otherwise or knowledge. whole, but to the criminal act, that is to say, the totality of the series of acts which result in the offence. The criminal act is the offence which finally -results, though the achievement of that criminal act may be -the result of action of several persons. No doubt, a person is only responsible ordinarily for what he does and s. 38 -ensures that; but the law in s.34 (and also s. 35) says that if the criminal acts is the result of a common intention, then it is a criminal act. In Barendra Kumar Ghosh\\'s case, the Judicial Committee observed that every person who did the criminal act with the common intention would be responsible for the total offence irrespective of the share which he had in its perpetration. \\'That act\\' and then again \\'it\\' in the latter. The whole of the -result perpetrated by several offenders, is attributable to each,offender, notwithstanding that individually they may have done separate acts, diverse or similar. Applying this test to the present case, if all the appellants shared the common intention of severely beating Abdul Sheikh and some held him down and others beat him with t. heir weapons, provided the common intention is accepted, they would all be responsible for the whole of the criminal act. Say, the criminal offence of culpable homicide not amounting -,to murder which was committed, irrespective of the part played by them. The common intention which is required by the section is not the intention which s. 299 mentions in its first part. That they did diverse acts would ordinarily make their responsibility individual for their own acts. But because of the common intention, they would be responsible for the total effect that they produced if any of the three conditions in s. 299, I.P.C. applied to their case. If it were a case of the first two conditions,  The question is whether the second part of s. 304 can be made applicable. The second part no doubt speaks of knowledge and does not refer to intention which has been segregated in the first part. Can it be said that when three or four persons start beating a man with heavy lathes, each. hitting his blow with the common intention of severely beating him and each possessi. If it could be said that knowledge of this type was possible in the case of each one of the appellants, there is no reason why s. 304, Part II cannot be read with s. 34. The common intention is with regard to the criminal act, i.e., the act of beating. This matter has been elaborately considered in the judgment of Lodge J. and again in the Full Bench decision of the Allahabad High Court. We do not think that we need say more on this, because we are in agreement with the decision given by the majority in the Calcutta High Court case. he Allahabad High, Court. It appears to us that in other cases doubt was felt because s. 304 is in two parts, and first part is concerned with culpable homicide committed with two types of intention and the second part with culpABLE homicide committed. with a particular knowledge. In our opinion, the learned Judges who held that view fell into the error of Previous concert which is insisted upon is the meeting of the minds regarding the achievement of a criminal act. That circumstance is completely fulfilled in a case like the present where a large number of persons attack an individual, chase hi. viewing the second part of s. 3,04 divorced from common intention whatever. A person does not do an act except with a certain intention, and the common intention which is requisite for the application of. s. 34 is the common intend of perpetrating a particular act. m, throw him on the ground and beat him till he dies. Even if the,offence does not come to the grade of murder, and is only culpable homicide not amounting to murder, there is no doubt whatever that the offence is shared by all of them, and s. 34 then makes the responsibility several. Appeal dismissed.ction of the appellants was proper, and see no reason to interfere.In the result, the appeal fails and is dismissed. The appeal was dismissed and the case was settled out of court. The case was decided by the Supreme Court of the United States of America.'"
            ],
            "application/vnd.google.colaboratory.intrinsic+json": {
              "type": "string"
            }
          },
          "metadata": {},
          "execution_count": 32
        }
      ]
    },
    {
      "cell_type": "code",
      "source": [
        "gold_std = training_data['Headnote'][0]"
      ],
      "metadata": {
        "id": "2Q0Rdu7mjRs5"
      },
      "execution_count": null,
      "outputs": []
    },
    {
      "cell_type": "markdown",
      "source": [
        "# ROUGE SCORES against gold std"
      ],
      "metadata": {
        "id": "Wh7MjeDmJd5c"
      }
    },
    {
      "cell_type": "code",
      "source": [
        "reference_summary = summary_bartlarge\n",
        "scorer = rouge_scorer.RougeScorer(['rouge1', 'rouge2', 'rougeL'], use_stemmer=True)\n",
        "scores = scorer.score(reference_summary, gold_std)\n",
        "\n",
        "rouge1_bartbase = scores['rouge1'].fmeasure\n",
        "rouge2_bartbase = scores['rouge2'].fmeasure\n",
        "rougeL_bartbase = scores['rougeL'].fmeasure\n",
        "print('Bart-base:')\n",
        "print(\"ROUGE-1 Score:\", rouge1_bartbase)\n",
        "print(\"ROUGE-2 Score:\", rouge2_bartbase)\n",
        "print(\"ROUGE-L Score:\", rougeL_bartbase)"
      ],
      "metadata": {
        "colab": {
          "base_uri": "https://localhost:8080/"
        },
        "id": "cKV5dWcYkDYT",
        "outputId": "b14b919e-3412-4004-e306-b1eb6e656fae"
      },
      "execution_count": null,
      "outputs": [
        {
          "output_type": "stream",
          "name": "stdout",
          "text": [
            "Bart-base:\n",
            "ROUGE-1 Score: 0.54421768707483\n",
            "ROUGE-2 Score: 0.33103448275862074\n",
            "ROUGE-L Score: 0.380952380952381\n"
          ]
        }
      ]
    },
    {
      "cell_type": "code",
      "source": [
        "reference_summary = summary_bartbase\n",
        "scorer = rouge_scorer.RougeScorer(['rouge1', 'rouge2', 'rougeL'], use_stemmer=True)\n",
        "scores = scorer.score(reference_summary, gold_std)\n",
        "\n",
        "rouge1_bartbase = scores['rouge1'].fmeasure\n",
        "rouge2_bartbase = scores['rouge2'].fmeasure\n",
        "rougeL_bartbase = scores['rougeL'].fmeasure\n",
        "print('Bart-base:')\n",
        "print(\"ROUGE-1 Score:\", rouge1_bartbase)\n",
        "print(\"ROUGE-2 Score:\", rouge2_bartbase)\n",
        "print(\"ROUGE-L Score:\", rougeL_bartbase)"
      ],
      "metadata": {
        "colab": {
          "base_uri": "https://localhost:8080/"
        },
        "id": "A3tW4pBRkUqr",
        "outputId": "231af9ba-010d-405c-de81-04a58c3b5d16"
      },
      "execution_count": null,
      "outputs": [
        {
          "output_type": "stream",
          "name": "stdout",
          "text": [
            "Bart-base:\n",
            "ROUGE-1 Score: 0.16585365853658537\n",
            "ROUGE-2 Score: 0.09779951100244498\n",
            "ROUGE-L Score: 0.10487804878048779\n"
          ]
        }
      ]
    },
    {
      "cell_type": "code",
      "source": [
        "reference_summary = final_summary\n",
        "scorer = rouge_scorer.RougeScorer(['rouge1', 'rouge2', 'rougeL'], use_stemmer=True)\n",
        "scores = scorer.score(reference_summary, gold_std)\n",
        "\n",
        "rouge1_bartbase = scores['rouge1'].fmeasure\n",
        "rouge2_bartbase = scores['rouge2'].fmeasure\n",
        "rougeL_bartbase = scores['rougeL'].fmeasure\n",
        "print('Bart-base:')\n",
        "print(\"ROUGE-1 Score:\", rouge1_bartbase)\n",
        "print(\"ROUGE-2 Score:\", rouge2_bartbase)\n",
        "print(\"ROUGE-L Score:\", rougeL_bartbase)"
      ],
      "metadata": {
        "colab": {
          "base_uri": "https://localhost:8080/"
        },
        "id": "Dr2UIe8pkmM6",
        "outputId": "3e065768-6861-485c-99c6-cde559740b51"
      },
      "execution_count": null,
      "outputs": [
        {
          "output_type": "stream",
          "name": "stdout",
          "text": [
            "Bart-base:\n",
            "ROUGE-1 Score: 0.054858934169279\n",
            "ROUGE-2 Score: 0.038431372549019606\n",
            "ROUGE-L Score: 0.04467084639498432\n"
          ]
        }
      ]
    },
    {
      "cell_type": "code",
      "source": [
        "reference_summary = \"\"\"The ban on transfers which may affect the ceiling law is more severe under the Bombay Tenancy and Agricultural Lands Act, 1948. Sec. 63 directs that no sale of land shall be valid in favour of a person who will, after such sale, hold land exceeding two-thirds of the ceiling area deter- mined under the Maharashtra Agricultural Lands (Ceiling on Holdings) Act, 1961. The fact that on the death of A in 1962 his earlier holdings were inherited by his heirs and the respective holdings, therefore, came below the ceiling area, is immaterial because the disputed land was purchased by A himself in 1960. It has to be remembered that, as has been held by the Revenue Tribunal, the other lands exclusively belonged to A and exceeded the ceiling area. The sale on 3.6.1960 must, therefore, be held to be illegal and inopera- tive. [241G-H; 242A]\n",
        "\n",
        "CIVIL APPELLATE JURISDICTION: Civil Appeal No. 950 (N) of 1973.\n",
        "\n",
        "From the Judgment and Order dated 2.8.1972 of the Bombay High Court in Special Civil Application No. 2826 of 1969.\n",
        "\n",
        "Pinaki Misra, P.H. Parekh and Ms. Sunita Sharma for the Appellants.\n",
        "\n",
        "V .N. Ganpule and V.D. Khanna for the Respondents.\n",
        "\n",
        "The Judgment of the Court was delivered by SHARMA, J. The subject matter of this appeal is 13.30 acres of land in Sholapur District, within the State of Maharashtra. The appellants are the heirs of one Mugaji Laxman Padule, who was the tenant of the land for about 3 decades before the Bombay Tenancy and Agricultural Land Act, 1948 (hereinafter referred to as the Act) was 240 enacted. Under the provisions of the Act, Mugaji was enti- tled to purchase the land on satisfaction of certain condi- tions. Admittedly he did not satisfy these conditions and said so before the authorities concerned. The landlords who are now represented by the respondents, were claiming pos- session of the area under the Act. Mugaji, subsequently, made a claim to the Land on another basis. On his death in 1962, his heirs the appellants were substituted. The matter was considered by several authorities under the Act, who ultimately rejected the appellants' case. The appellants, thereafter moved the Bombay High Court by an application under Article 227 of the Constitution of India, which was rejected by the impugned judgment.\n",
        "\n",
        "2. The procedure for the tenant to purchase the land is laid down in Sec. 32G of the Act. It enjoins the Agricultur- al Land Tribunal constituted under Sec. 67 to publish a public notice calling upon the tenants, the landlords and any other interested person to appear before it on a speci- fied date. The Tribunal is also required to issue individual notices to the landlords and the tenants, and thereafter to decide the competing cases. Sec. 32A limits the right of a tenant holding other Lands to such area only which will raise his holding to the extent of the ceiling area. Admit- tedly Mugaji was already possessed of lands beyond the ceiling area and he, therefore, did not claim to have pur- chased the land in accordance with the provisions of the Act. In a situation where a tenant is not able to success- fully claim the land, it has to be disposed of in the manner provided in Sec. 32P, which states that the former tenant would be summarily evicted and the land would be surrendered to the landlord. In the present case the land in question, thus, went to the landlords. According to the case of the appellants, on a partition in the family of the landlords the disputed land was allotted to the share of the respond- ents 2 to 4 and Mugaji purchased the same for a sum of Rs.\n",
        "\n",
        "3,000 from them on 3.6.1960. The appellants alleged that by this date, i.e., 3.6.1960 the land held by Mugaji was within the ceiling area following a partition between him and his sons on 13.10.1959.\n",
        "\n",
        "3. The respondents moved the authorities under the Act in 1963 for recognising their claim. They did not implead the appellants and suppressed the fact of the sale on 3.6.1960 in favour of Mugaji. The Agricultural Lands Tribu- nal and Additional Mamlatdar relying on the enquiry under Sec. 32G, wherein the right of Mugaji as a tenant was nega- tived, upheld the claim of the present respondents by his order dated 28.4.1963. When the appellants learnt about it, they filed an appeal before the Collector. They also chal- lenged the earlier order 241 passed against Mugaji under Sec. 32G. The Collector remanded the matter on 25.9.1963. The Additional Mamlatdar by his order dated 8.2. 1964 observed that since the tenant had purchased the suit land from the landlords, the proceeding was fit to be dropped and it was appropriate to deal with the case under Sec. 84C of the Act. Sec. 84C states that in respect of a transfer of any land made after 1955 if the Mamlatdar has reason to believe that the transfer was in- valid on account of any of the provisions of the Act, he would issue notice and hold an enquiry and decide whether the transfer is invalid or not. In 1965 a further order was passed in the case wherein the Agricultural Lands Tribunal held the purchase by Mugaji on 3.6.1960 as lawful and upheld the claim of the appellants. The order was upheld in appeal, and the respondent No. 3 filed a revision application before the Revenue Tribunal. It was contended on behalf of the present appellants that after the partition between Mugaji and his sons in 1959 the area held by him came below the ceiling level and he was, thus. entitled to purchase the land on 3.6. 1960. The Maharashtra Revenue Tribunal held that the land owned by Mugaji did not belong to the joint family and his sons had no share therein, and the alleged partition, therefore, could not be accepted or recognised.\n",
        "\n",
        "The result is that even in 1960, Mugaji was possessed of land beyond the ceiling area and he was not entitled to purchase further land from the respondents 2 to 4. Thus, having lost the case, the appellants moved the Bombay High Court, and their application was rejected by a short judg- ment passed on 2.8. 1972 which is under challenge in this appeal by Special Leave.\n",
        "\n",
        "4. The learned counsel for appellants contended that the High Court was in error in assuming that the claim of the appellants was based on the right of Mugaji under Sec. 32G of the Act in the capacity of a tenant; and also in relying on Sec. 10 of the Maharashtra Agricultural Lands (Ceiling on Holdings) Act, 1961. The learned counsel appears to be right but for this reason the appellants can not succeed. The ban on transfers which may affect the ceiling law is more severe under the Bombay Tenancy and Agricultural Lands Act, 1948.\n",
        "\n",
        "Sec. 63 directs that no sale of land shall be valid in favour of a person who will after such sale hold land ex- ceeding two-thirds of the ceiling area determined under the Maharashtra Agricultural lands (Ceiling on Holdings) Act, 1961. The fact that on the death of Mugaji in 1962 his earlier holdings were inherited by his heirs and the respec- tive holdings, therefore, came below the ceiling area is immaterial, because the disputed land was purchased by Mugaji himself in 1960. It has to be remembered that, as has been held by the Revenue Tribunal, the other 242 lands exclusively belonged to Mugaji and exceeded the ceil- ing area. The sale on 3.6.1960 must, therefore, be held to be illegal and inoperative. Consequently, the appellants must lose although for slightly different reasons than those given by the High Court. The appeal is accordingly dismissed but in the circumstances without costs.\n",
        "\n",
        "G.N. Appeal dis- missed.\"\"\"\n",
        "generated_summary = \"\"\"The appellants are the heirs of one Mugaji Laxman Padule, who was the tenant of the land for about 3 decades before the Bombay Tenancy and Agricultural Land Act, 1948 (hereinafter referred to as the Act) was enacted. On his death in 1962, the land was purchased by him for Rs. 3.6,000 from his son-in-law for the sum of Rs. 2.3,000 and the land in question was allotted to him and his sons. The respondents, who are represented by the respondents, were the tenants of the said land and were entitled to a share of the same under Sec. 32G of the Act.\"\"\"\n",
        "\n",
        "scorer = rouge_scorer.RougeScorer(['rouge1', 'rouge2', 'rougeL'], use_stemmer=True)\n",
        "scores = scorer.score(reference_summary, final_summary)\n",
        "\n",
        "rouge1_score = scores['rouge1'].fmeasure\n",
        "rouge2_score = scores['rouge2'].fmeasure\n",
        "rougeL_score = scores['rougeL'].fmeasure\n",
        "\n",
        "print(\"ROUGE-1 Score:\", rouge1_score)\n",
        "print(\"ROUGE-2 Score:\", rouge2_score)\n",
        "print(\"ROUGE-L Score:\", rougeL_score)"
      ],
      "metadata": {
        "colab": {
          "base_uri": "https://localhost:8080/"
        },
        "id": "GWQK2cFe5Rvo",
        "outputId": "a1605b29-cbca-4a2a-8d37-76c3241f37ba"
      },
      "execution_count": null,
      "outputs": [
        {
          "output_type": "stream",
          "name": "stdout",
          "text": [
            "ROUGE-1 Score: 0.39234449760765555\n",
            "ROUGE-2 Score: 0.31497005988023946\n",
            "ROUGE-L Score: 0.29306220095693775\n"
          ]
        }
      ]
    }
  ]
}